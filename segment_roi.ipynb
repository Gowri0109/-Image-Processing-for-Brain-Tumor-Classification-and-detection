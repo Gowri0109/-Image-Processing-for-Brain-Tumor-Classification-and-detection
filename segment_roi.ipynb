{
 "cells": [
  {
   "cell_type": "code",
   "execution_count": 1,
   "metadata": {},
   "outputs": [],
   "source": [
    "import cv2\n",
    "import os\n",
    "import pandas as pd\n",
    "import numpy as np"
   ]
  },
  {
   "cell_type": "code",
   "execution_count": 6,
   "metadata": {},
   "outputs": [],
   "source": [
    "#Segmentation using region of interest (ROI)\n",
    "class segment_roi:\n",
    "    def __init__(self):\n",
    "        self.image = None\n",
    "        self.roi_pts = []\n",
    "        self.completed = False\n",
    "\n",
    "#to select the region of interest \n",
    "    def select_roi(self, image):\n",
    "        self.image = image\n",
    "        clone = self.image.copy()\n",
    "        cv2.namedWindow(\"Select ROI\")\n",
    "        cv2.setMouseCallback(\"Select Roi\", self._select_roi_callback)\n",
    "\n",
    "        while True:\n",
    "            cv2.imshow(\"Select ROI\", self._draw_roi(clone))\n",
    "            key = cv2.waitKey(1) & 0xFF\n",
    "            if key == ord(\"r\"):\n",
    "                self.roi_pts = []\n",
    "                clone = self.image.copy()\n",
    "            elif key == ord(\"c\"):\n",
    "                if len(self.roi_pts) == 4:\n",
    "                    self.completed = True\n",
    "                    cv2.destroyWindow(\"Select ROI\")\n",
    "                    return self.roi_pts\n",
    "                else:\n",
    "                    print (\"Select four points to define ROI:\")\n",
    "            elif key ==27:\n",
    "                cv2.destroyWindow(\"Select ROI\")\n",
    "                break\n",
    "        return None\n",
    "    \n",
    "    def _select_roi_callback(self, event, x, y, flags, param):\n",
    "        if event == cv2.EVENT_LBUTTONDOWN:\n",
    "            if len(self.roi_pts) < 4:\n",
    "                self.roi_pts.append((x,y))\n",
    "\n",
    "#to draw the region of interest points required \n",
    "    def _draw_roi(self, image):\n",
    "        for pt in self.roi_pts:\n",
    "            cv2.circle(image, pt, 5, (0, 255, 0),2)\n",
    "\n",
    "        if len(self.roi_pts) == 4:\n",
    "            cv2.line(image, self.roi_pts[0], self.roi_pts[1], (0,255,0),2)\n",
    "            cv2.line(image, self.roi_pts[1], self.roi_pts[2], (0,255,0),2)  \n",
    "            cv2.line(image, self.roi_pts[2], self.roi_pts[3], (0,255,0),2)  \n",
    "            cv2.line(image, self.roi_pts[3], self.roi_pts[0], (0,255,0),2)  \n",
    "        return image         \n"
   ]
  },
  {
   "cell_type": "code",
   "execution_count": 23,
   "metadata": {},
   "outputs": [
    {
     "name": "stdout",
     "output_type": "stream",
     "text": [
      "<__main__.segment_roi object at 0x000001DC9D7FF640>\n"
     ]
    },
    {
     "ename": "NameError",
     "evalue": "name 'roi_pts' is not defined",
     "output_type": "error",
     "traceback": [
      "\u001b[1;31m---------------------------------------------------------------------------\u001b[0m",
      "\u001b[1;31mNameError\u001b[0m                                 Traceback (most recent call last)",
      "Cell \u001b[1;32mIn[23], line 41\u001b[0m\n\u001b[0;32m     38\u001b[0m             cv2\u001b[39m.\u001b[39mimwrite(os\u001b[39m.\u001b[39mpath\u001b[39m.\u001b[39mjoin(output_folder), roi_pts)\n\u001b[0;32m     39\u001b[0m             \u001b[39mprint\u001b[39m(\u001b[39m\"\u001b[39m\u001b[39mSaved output image to:\u001b[39m\u001b[39m\"\u001b[39m, output_path)\n\u001b[1;32m---> 41\u001b[0m \u001b[39mprint\u001b[39m(roi_pts)\n\u001b[0;32m     42\u001b[0m \u001b[39mprint\u001b[39m(roi)\n",
      "\u001b[1;31mNameError\u001b[0m: name 'roi_pts' is not defined"
     ]
    }
   ],
   "source": [
    "#create roi_selector object\n",
    "roi_selector = segment_roi()\n",
    "print(roi_selector)\n",
    "\n",
    "#input and output folder path\n",
    "input_folder = \"D:\\master_thesis\\datasets\\histogram_equilization\\glioma\"\n",
    "output_folder = \"D:\\master_thesis\\datasets\\segmented\\glioma\"\n",
    "filename = ()\n",
    "\n",
    "# Create output directory if it does not exist\n",
    "if not os.path.exists(output_folder):\n",
    "    os.makedirs(output_folder)\n",
    "\n",
    "#loop over all the images in the input folder\n",
    "if filename in os.listdir(input_folder):\n",
    "    #get filename from the filepath\n",
    "    file_path = os.path.join(input_folder, filename)\n",
    "    #load images\n",
    "    image_path = cv2.imread(file_path)\n",
    "\n",
    "    #to select the roi\n",
    "    roi_pts = segment_roi.select_roi(image_path)\n",
    "    \n",
    "\n",
    "#to extract roi\n",
    "    if roi_pts is not None:\n",
    "        mask = np.zeros(image_path.shape[:2], dtype=np.unit8)\n",
    "        roi_corners = np.array(roi_pts,dtype=np.int32)\n",
    "        print(roi_corners)\n",
    "        cv2.fillPoly(mask, [roi_corners], {255,255,255})\n",
    "        roi = cv2.bitwise_and(image_path, image_path, mask=mask)\n",
    "        print(roi)\n",
    "\n",
    "#save in different folder\n",
    "    for filename in os.listdir(input_folder):\n",
    "        if filename.endswith('.jpg') or filename.endswith('.png'):\n",
    "            output_path = os.path.join(input_folder, filename)\n",
    "            cv2.imwrite(os.path.join(output_folder), roi_pts)\n",
    "            print(\"Saved output image to:\", output_path)\n",
    "\n",
    "print(roi_pts)\n",
    "print(roi)"
   ]
  },
  {
   "cell_type": "code",
   "execution_count": null,
   "metadata": {},
   "outputs": [],
   "source": []
  }
 ],
 "metadata": {
  "kernelspec": {
   "display_name": "Python 3",
   "language": "python",
   "name": "python3"
  },
  "language_info": {
   "codemirror_mode": {
    "name": "ipython",
    "version": 3
   },
   "file_extension": ".py",
   "mimetype": "text/x-python",
   "name": "python",
   "nbconvert_exporter": "python",
   "pygments_lexer": "ipython3",
   "version": "3.8.8"
  },
  "orig_nbformat": 4
 },
 "nbformat": 4,
 "nbformat_minor": 2
}
