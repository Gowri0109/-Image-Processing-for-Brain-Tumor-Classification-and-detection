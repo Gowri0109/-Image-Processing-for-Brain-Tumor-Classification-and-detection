{
  "nbformat": 4,
  "nbformat_minor": 0,
  "metadata": {
    "colab": {
      "provenance": [],
      "gpuType": "T4",
      "mount_file_id": "16Q56zq8Ak6FNRFJtYzLfz-rK5rq4e7Gv",
      "authorship_tag": "ABX9TyM6KaMT7qS07Dgn5a8+x/3T",
      "include_colab_link": true
    },
    "kernelspec": {
      "name": "python3",
      "display_name": "Python 3"
    },
    "language_info": {
      "name": "python"
    },
    "accelerator": "GPU"
  },
  "cells": [
    {
      "cell_type": "markdown",
      "metadata": {
        "id": "view-in-github",
        "colab_type": "text"
      },
      "source": [
        "<a href=\"https://colab.research.google.com/github/Gowri0109/-Image-Processing-for-Brain-Tumor-Classification-and-detection/blob/new/colab.ipynb\" target=\"_parent\"><img src=\"https://colab.research.google.com/assets/colab-badge.svg\" alt=\"Open In Colab\"/></a>"
      ]
    },
    {
      "cell_type": "code",
      "source": [
        "!git clone https://github.com/Gowri0109/-Image-Processing-for-Brain-Tumor-Classification-and-detection.git"
      ],
      "metadata": {
        "colab": {
          "base_uri": "https://localhost:8080/"
        },
        "id": "89RP2yjh5cVu",
        "outputId": "1d3d9d3c-8d6a-4b51-a269-560dd6cc2d21"
      },
      "execution_count": 1,
      "outputs": [
        {
          "output_type": "stream",
          "name": "stdout",
          "text": [
            "Cloning into '-Image-Processing-for-Brain-Tumor-Classification-and-detection'...\n",
            "remote: Enumerating objects: 128, done.\u001b[K\n",
            "remote: Counting objects: 100% (128/128), done.\u001b[K\n",
            "remote: Compressing objects: 100% (94/94), done.\u001b[K\n",
            "remote: Total 128 (delta 72), reused 81 (delta 32), pack-reused 0\u001b[K\n",
            "Receiving objects: 100% (128/128), 980.19 KiB | 7.21 MiB/s, done.\n",
            "Resolving deltas: 100% (72/72), done.\n"
          ]
        }
      ]
    },
    {
      "cell_type": "code",
      "execution_count": null,
      "metadata": {
        "id": "a8KGyUg_2VU2"
      },
      "outputs": [],
      "source": [
        "import os\n",
        "import cv2\n",
        "import numpy as np\n",
        "from skimage.feature import hog\n",
        "\n",
        "# Define the paths to the directories for each set\n",
        "train_dir = \"/content/training_set\"\n",
        "# val_dir = \"D:\\\\master_thesis\\\\datasets\\\\data_split\\\\validation_set\"\n",
        "# test_dir = \"D:\\\\master_thesis\\\\datasets\\\\data_split\\\\test_set\"\n",
        "\n",
        "# Define the output directories for saving the feature vectors\n",
        "output_dir_train = \"/content/output_features\"\n",
        "# output_dir_val = \"D:\\\\master_thesis\\\\datasets\\\\hog_feature\\\\val\"\n",
        "# output_dir_test = \"D:\\\\master_thesis\\\\datasets\\\\hog_feature\\\\test\"\n",
        "\n",
        "# Define the HOG parameters\n",
        "cell_size = (8, 8)\n",
        "block_size = (2, 2)\n",
        "num_bins = 9\n",
        "\n",
        "# Function to extract HOG features from a set of images\n",
        "def extract_hog_features(image_dir, output_dir):\n",
        "    features = []\n",
        "    labels = []\n",
        "\n",
        "    # Loop over each subdirectory (class) in the image directory\n",
        "    for subdir in os.listdir(image_dir):\n",
        "        sub_dir_path = os.path.join(image_dir, subdir)\n",
        "        \n",
        "        # Loop over each image file in the subdirectory\n",
        "        for file in os.listdir(sub_dir_path):\n",
        "            image_path = os.path.join(sub_dir_path, file)\n",
        "            \n",
        "            # Read the image\n",
        "            image = cv2.imread(image_path)\n",
        "            \n",
        "            # Convert the image to grayscale\n",
        "            gray = cv2.cvtColor(image, cv2.COLOR_BGR2GRAY)\n",
        "            \n",
        "            # Calculate the HOG features\n",
        "            hog_features = hog(gray, orientations=num_bins, pixels_per_cell=cell_size, cells_per_block=block_size)\n",
        "            \n",
        "            # Append the features and label\n",
        "            features.append(hog_features)\n",
        "            labels.append(subdir)\n",
        "    \n",
        "    # Convert the feature and label lists to numpy arrays\n",
        "    features = np.array(features)\n",
        "    labels = np.array(labels)\n",
        "    \n",
        "    # Save the feature vectors and labels to files\n",
        "    np.save(os.path.join(output_dir, \"hog_features.npy\"), features)\n",
        "    np.save(os.path.join(output_dir, \"labels.npy\"), labels)\n",
        "\n",
        "# # Extract HOG features for the training set and save the features in the output directory\n",
        "extract_hog_features(train_dir, output_dir_train)\n",
        "\n",
        "# # Extract HOG features for the validation set and save the features in the output directory\n",
        "# extract_hog_features(val_dir, output_dir_val)\n",
        "\n",
        "# Extract HOG features for the test set and save the features in the output directory\n",
        "# extract_hog_features(test_dir, output_dir_test)\n"
      ]
    },
    {
      "cell_type": "code",
      "source": [
        "import os\n",
        "import numpy as np\n",
        "from sklearn.ensemble import RandomForestClassifier\n",
        "from sklearn.metrics import accuracy_score\n",
        "import joblib\n",
        "import cv2\n",
        "\n",
        "input_folder = \"D:\\\\master_thesis\\\\datasets\\\\data_split\\\\test_set\"\n",
        "output_folder = \"D:\\\\master_thesis\\\\datasets\\\\test_model\"\n",
        "\n",
        "# Iterate over the folders in the input folder (assuming each folder represents a tumor type)\n",
        "for tumor_folder in os.listdir(input_folder):\n",
        "    tumor_folder_path = os.path.join(input_folder, tumor_folder)\n",
        "    if not os.path.isdir(tumor_folder_path):\n",
        "        continue\n",
        "\n",
        "    print(\"Processing tumor folder:\", tumor_folder)\n",
        "\n",
        "    # Load the features from the .npy file\n",
        "    feature_folder = os.path.join(tumor_folder_path, \"hog_feature\")  # Adjust folder name as per your case\n",
        "    feature_file_path = os.path.join(feature_folder, \"D:\\\\master_thesis\\\\datasets\\\\hog_feature\\\\test\\\\hog_features.npy\")  # Adjust file name as per your case\n",
        "\n",
        "    features = np.load(feature_file_path, allow_pickle=True)\n",
        "    \n",
        "    # Load the labels from the .npy file\n",
        "    label_file_path = os.path.join(feature_folder, \"D:\\\\master_thesis\\\\datasets\\\\hog_feature\\\\test\\\\labels.npy\")  # Adjust file name as per your case\n",
        "    labels = np.load(label_file_path, allow_pickle=True)\n",
        "    \n",
        "    # Check if features and labels arrays are empty\n",
        "    if features.size == 0 or labels.size == 0:\n",
        "        print(\"No feature files found for tumor folder:\", tumor_folder)\n",
        "        continue\n",
        "\n",
        "    # Reshape the feature data if needed (uncomment the line below and modify the shape)\n",
        "    # features = features.reshape(features.shape[0], -1)\n",
        "\n",
        "    # Train a Random Forest classifier\n",
        "    rf_classifier = RandomForestClassifier(n_estimators=100, random_state=42, max_depth=10)\n",
        "    rf_classifier.fit(features, labels)\n",
        "\n",
        "    # Save the trained model\n",
        "    model_file_path = os.path.join(output_folder, tumor_folder + \".joblib\")\n",
        "    joblib.dump(rf_classifier, model_file_path)\n",
        "\n",
        "    # Predict on the training data\n",
        "    predictions = rf_classifier.predict(features)\n",
        "\n",
        "    # Calculate accuracy\n",
        "    accuracy = accuracy_score(labels, predictions)\n",
        "    print(\"Accuracy for tumor folder\", tumor_folder, \":\", accuracy)\n",
        "\n",
        "    print(\"Completed processing tumor folder:\", tumor_folder)\n",
        "\n",
        "print(\"Model training completed.\")"
      ],
      "metadata": {
        "id": "vZOejLj25Ruc"
      },
      "execution_count": null,
      "outputs": []
    }
  ]
}