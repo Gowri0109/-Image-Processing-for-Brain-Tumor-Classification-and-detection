{
  "nbformat": 4,
  "nbformat_minor": 0,
  "metadata": {
    "colab": {
      "provenance": [],
      "gpuType": "T4",
      "mount_file_id": "1KTvMheDye7Wv-RkRj9g4mMGxdGy5kCSk",
      "authorship_tag": "ABX9TyNDYIE2gGtLXlcUjoJnzSj5",
      "include_colab_link": true
    },
    "kernelspec": {
      "name": "python3",
      "display_name": "Python 3"
    },
    "language_info": {
      "name": "python"
    },
    "accelerator": "GPU"
  },
  "cells": [
    {
      "cell_type": "markdown",
      "metadata": {
        "id": "view-in-github",
        "colab_type": "text"
      },
      "source": [
        "<a href=\"https://colab.research.google.com/github/Gowri0109/-Image-Processing-for-Brain-Tumor-Classification-and-detection/blob/Main/classification.ipynb\" target=\"_parent\"><img src=\"https://colab.research.google.com/assets/colab-badge.svg\" alt=\"Open In Colab\"/></a>"
      ]
    },
    {
      "cell_type": "code",
      "source": [
        "!git clone https://github.com/Gowri0109/-Image-Processing-for-Brain-Tumor-Classification-and-detection.git"
      ],
      "metadata": {
        "colab": {
          "base_uri": "https://localhost:8080/"
        },
        "id": "oewb7x3SO7-Z",
        "outputId": "af110f4e-8318-4357-cb4f-b89e7d8b3ccd"
      },
      "execution_count": null,
      "outputs": [
        {
          "output_type": "stream",
          "name": "stdout",
          "text": [
            "Cloning into '-Image-Processing-for-Brain-Tumor-Classification-and-detection'...\n",
            "remote: Enumerating objects: 134, done.\u001b[K\n",
            "remote: Counting objects: 100% (134/134), done.\u001b[K\n",
            "remote: Compressing objects: 100% (100/100), done.\u001b[K\n",
            "remote: Total 134 (delta 75), reused 80 (delta 32), pack-reused 0\u001b[K\n",
            "Receiving objects: 100% (134/134), 983.67 KiB | 8.27 MiB/s, done.\n",
            "Resolving deltas: 100% (75/75), done.\n"
          ]
        }
      ]
    },
    {
      "cell_type": "code",
      "source": [
        "import cv2\n",
        "import os\n",
        "import numpy as np\n",
        "from sklearn.ensemble import RandomForestClassifier\n",
        "from sklearn.metrics import accuracy_score\n",
        "from keras.models import Sequential\n",
        "from keras.layers import Conv2D, MaxPooling2D, Flatten, Dense\n",
        "\n",
        "# Assuming your test data is stored in a directory named \"test_data_folder\"\n",
        "test_data_folder = \"/content/drive/MyDrive/features/test_set\"\n",
        "\n",
        "# List all subdirectories in the test data folder\n",
        "subdirectories = os.listdir(test_data_folder)\n",
        "\n",
        "# Load images and labels for the test set\n",
        "X_test = []\n",
        "y_test = []\n",
        "\n",
        "# Define the fixed size for resizing the images\n",
        "image_size = (64, 64)  # Adjust the size as per your requirements\n",
        "\n",
        "for subdirectory in subdirectories:\n",
        "    subdirectory_path = os.path.join(test_data_folder, subdirectory)\n",
        "    if os.path.isdir(subdirectory_path):\n",
        "        image_files = os.listdir(subdirectory_path)\n",
        "        for image_file in image_files:\n",
        "            image_path = os.path.join(subdirectory_path, image_file)\n",
        "            image = cv2.imread(image_path)  # Load image using OpenCV or any other library\n",
        "            resized_image = cv2.resize(image, image_size)  # Resize the image to a fixed size\n",
        "            X_test.append(resized_image)  # Add the image to the test feature matrix\n",
        "            y_test.append(subdirectory)  # Use the subdirectory name as the label for test data\n",
        "\n",
        "# Convert lists to numpy arrays\n",
        "X_test = np.array(X_test)\n",
        "y_test = np.array(y_test)\n",
        "\n",
        "# Random Forest Classifier\n",
        "# Flatten the images\n",
        "X_test_flattened = X_test.reshape(X_test.shape[0], -1)\n",
        "\n",
        "# Create a Random Forest classifier\n",
        "rf_clf = RandomForestClassifier(n_estimators=100, random_state=42)\n",
        "\n",
        "# Train the classifier\n",
        "rf_clf.fit(X_test_flattened, y_test)\n",
        "\n",
        "# Perform prediction\n",
        "y_test_pred_rf = rf_clf.predict(X_test_flattened)\n",
        "\n",
        "# Calculate accuracy on the test set\n",
        "test_accuracy_rf = accuracy_score(y_test, y_test_pred_rf)\n",
        "print(\"Random Forest Test Accuracy: {:.2f}%\".format(test_accuracy_rf * 100))"
      ],
      "metadata": {
        "colab": {
          "base_uri": "https://localhost:8080/"
        },
        "id": "JcsI-nI9GBw8",
        "outputId": "3cd89188-14e9-4910-b771-14ca78b18731"
      },
      "execution_count": 4,
      "outputs": [
        {
          "output_type": "stream",
          "name": "stdout",
          "text": [
            "Random Forest Test Accuracy: 100.00%\n"
          ]
        }
      ]
    },
    {
      "cell_type": "code",
      "source": [
        "import cv2\n",
        "import os\n",
        "import numpy as np\n",
        "from sklearn.metrics import accuracy_score\n",
        "from keras.models import Sequential\n",
        "from keras.layers import Conv2D, MaxPooling2D, Flatten, Dense\n",
        "from sklearn.preprocessing import LabelEncoder\n",
        "from keras.utils import to_categorical\n",
        "\n",
        "# Assuming your test data is stored in a directory named \"test_data_folder\"\n",
        "test_data_folder = \"/content/drive/MyDrive/features/test_set\"\n",
        "\n",
        "# List all subdirectories in the test data folder\n",
        "subdirectories = os.listdir(test_data_folder)\n",
        "\n",
        "# Load images and labels for the test set\n",
        "X_test = []\n",
        "y_test = []\n",
        "\n",
        "# Define the fixed size for resizing the images\n",
        "image_size = (64, 64)  # Adjust the size as per your requirements\n",
        "\n",
        "for subdirectory in subdirectories:\n",
        "    subdirectory_path = os.path.join(test_data_folder, subdirectory)\n",
        "    if os.path.isdir(subdirectory_path):\n",
        "        image_files = os.listdir(subdirectory_path)\n",
        "        for image_file in image_files:\n",
        "            image_path = os.path.join(subdirectory_path, image_file)\n",
        "            image = cv2.imread(image_path)  # Load image using OpenCV or any other library\n",
        "            resized_image = cv2.resize(image, image_size)  # Resize the image to a fixed size\n",
        "            X_test.append(resized_image)  # Add the image to the test feature matrix\n",
        "            y_test.append(subdirectory)  # Use the subdirectory name as the label for test data\n",
        "\n",
        "# Convert lists to numpy arrays\n",
        "X_test = np.array(X_test)\n",
        "y_test = np.array(y_test)\n",
        "\n",
        "# Preprocess the images (e.g., normalize, convert to grayscale, etc.) as per your requirements\n",
        "\n",
        "# Convert labels to numeric format\n",
        "label_encoder = LabelEncoder()\n",
        "y_test_encoded = label_encoder.fit_transform(y_test)\n",
        "\n",
        "# Convert numeric labels to one-hot encoded vectors\n",
        "y_test_one_hot = to_categorical(y_test_encoded)\n",
        "\n",
        "# Create a CNN model\n",
        "cnn_model = Sequential()\n",
        "cnn_model.add(Conv2D(32, (3, 3), activation='relu', input_shape=X_test.shape[1:]))\n",
        "cnn_model.add(MaxPooling2D((2, 2)))\n",
        "cnn_model.add(Flatten())\n",
        "cnn_model.add(Dense(64, activation='relu'))\n",
        "cnn_model.add(Dense(y_test_one_hot.shape[1], activation='softmax'))\n",
        "\n",
        "# Compile the model\n",
        "cnn_model.compile(optimizer='adam', loss='categorical_crossentropy', metrics=['accuracy'])\n",
        "\n",
        "# Perform prediction\n",
        "y_test_pred_cnn = cnn_model.predict(X_test)\n",
        "\n",
        "# Convert predictions to class labels\n",
        "y_test_pred_cnn_labels = np.argmax(y_test_pred_cnn, axis=1)\n",
        "\n",
        "# Calculate accuracy on the test set\n",
        "test_accuracy_cnn = accuracy_score(y_test_encoded, y_test_pred_cnn_labels)\n",
        "print(\"CNN Test Accuracy: {:.2f}%\".format(test_accuracy_cnn * 100))\n",
        "\n",
        "\n"
      ],
      "metadata": {
        "colab": {
          "base_uri": "https://localhost:8080/"
        },
        "id": "ACulwElVD38o",
        "outputId": "8b69f73f-e846-422d-e8f6-6f2f82fe5398"
      },
      "execution_count": 11,
      "outputs": [
        {
          "output_type": "stream",
          "name": "stdout",
          "text": [
            "134/134 [==============================] - 7s 2ms/step\n",
            "CNN Test Accuracy: 28.42%\n"
          ]
        }
      ]
    },
    {
      "cell_type": "code",
      "source": [
        "import cv2\n",
        "import os\n",
        "import numpy as np\n",
        "from sklearn.ensemble import RandomForestClassifier\n",
        "from sklearn.metrics import accuracy_score\n",
        "from sklearn.model_selection import train_test_split\n",
        "\n",
        "# Assuming your training data is stored in a directory named \"train_data_folder\"\n",
        "train_data_folder = \"train_data_folder\"\n",
        "\n",
        "# Assuming your validation data is stored in a directory named \"validation_data_folder\"\n",
        "validation_data_folder = \"validation_data_folder\"\n",
        "\n",
        "# List all subdirectories in the training data folder\n",
        "train_subdirectories = os.listdir(train_data_folder)\n",
        "\n",
        "# List all subdirectories in the validation data folder\n",
        "validation_subdirectories = os.listdir(validation_data_folder)\n",
        "\n",
        "# Load images and labels for the training set\n",
        "X_train = []\n",
        "y_train = []\n",
        "\n",
        "# Load images and labels for the validation set\n",
        "X_val = []\n",
        "y_val = []\n",
        "\n",
        "# Define the fixed size for resizing the images\n",
        "image_size = (64, 64)  # Adjust the size as per your requirements\n",
        "\n",
        "for subdirectory in train_subdirectories:\n",
        "    subdirectory_path = os.path.join(train_data_folder, subdirectory)\n",
        "    if os.path.isdir(subdirectory_path):\n",
        "        image_files = os.listdir(subdirectory_path)\n",
        "        for image_file in image_files:\n",
        "            image_path = os.path.join(subdirectory_path, image_file)\n",
        "            image = cv2.imread(image_path)  # Load image using OpenCV or any other library\n",
        "            resized_image = cv2.resize(image, image_size)  # Resize the image to a fixed size\n",
        "            X_train.append(resized_image.flatten())  # Add the flattened image to the training feature matrix\n",
        "            y_train.append(subdirectory)  # Use the subdirectory name as the label for training data\n",
        "\n",
        "for subdirectory in validation_subdirectories:\n",
        "    subdirectory_path = os.path.join(validation_data_folder, subdirectory)\n",
        "    if os.path.isdir(subdirectory_path):\n",
        "        image_files = os.listdir(subdirectory_path)\n",
        "        for image_file in image_files:\n",
        "            image_path = os.path.join(subdirectory_path, image_file)\n",
        "            image = cv2.imread(image_path)  # Load image using OpenCV or any other library\n",
        "            resized_image = cv2.resize(image, image_size)  # Resize the image to a fixed size\n",
        "            X_val.append(resized_image.flatten())  # Add the flattened image to the validation feature matrix\n",
        "            y_val.append(subdirectory)  # Use the subdirectory name as the label for validation data\n",
        "\n",
        "# Convert lists to numpy arrays\n",
        "X_train = np.array(X_train)\n",
        "y_train = np.array(y_train)\n",
        "X_val = np.array(X_val)\n",
        "y_val = np.array(y_val)\n",
        "\n",
        "# Preprocess the images and labels as per your requirements\n",
        "\n",
        "# Create a Random Forest classifier\n",
        "rf_model = RandomForestClassifier(n_estimators=100)\n",
        "\n",
        "# Train the model\n",
        "rf_model.fit(X_train, y_train)\n",
        "\n",
        "# Perform prediction on the validation set\n",
        "y_val_pred_rf = rf_model.predict(X_val)\n",
        "\n",
        "# Calculate accuracy on the validation set\n",
        "val_accuracy_rf = accuracy_score(y_val, y_val_pred_rf)\n",
        "print(\"Random Forest Validation Accuracy: {:.2f}%\".format(val_accuracy_rf * 100))\n"
      ],
      "metadata": {
        "id": "a0mv5oo-Jqo5"
      },
      "execution_count": null,
      "outputs": []
    }
  ]
}