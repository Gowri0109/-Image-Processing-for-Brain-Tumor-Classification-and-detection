{
 "cells": [
  {
   "cell_type": "code",
   "execution_count": 9,
   "metadata": {},
   "outputs": [
    {
     "name": "stderr",
     "output_type": "stream",
     "text": [
      "C:\\Users\\Gowri\\AppData\\Local\\Temp\\ipykernel_2984\\3238416730.py:48: VisibleDeprecationWarning: Creating an ndarray from ragged nested sequences (which is a list-or-tuple of lists-or-tuples-or ndarrays with different lengths or shapes) is deprecated. If you meant to do this, you must specify 'dtype=object' when creating the ndarray.\n",
      "  features = np.array(features)\n"
     ]
    }
   ],
   "source": [
    "import os\n",
    "import cv2\n",
    "import numpy as np\n",
    "from skimage.feature import hog\n",
    "\n",
    "# Define the paths to the directories for each set\n",
    "train_dir = \"D:\\\\master_thesis\\\\datasets\\\\data_split\\\\training_set\"\n",
    "# val_dir = \"D:\\\\master_thesis\\\\datasets\\\\data_split\\\\validation_set\"\n",
    "# test_dir = \"D:\\\\master_thesis\\\\datasets\\\\data_split\\\\test_set\"\n",
    "\n",
    "# Define the output directories for saving the feature vectors\n",
    "output_dir_train = \"D:\\\\master_thesis\\\\datasets\\\\hog_feature\\\\train\"\n",
    "# output_dir_val = \"D:\\\\master_thesis\\\\datasets\\\\hog_feature\\\\val\"\n",
    "# output_dir_test = \"D:\\\\master_thesis\\\\datasets\\\\hog_feature\\\\test\"\n",
    "\n",
    "# Define the HOG parameters\n",
    "cell_size = (8, 8)\n",
    "block_size = (2, 2)\n",
    "num_bins = 9\n",
    "\n",
    "# Function to extract HOG features from a set of images\n",
    "def extract_hog_features(image_dir, output_dir):\n",
    "    features = []\n",
    "    labels = []\n",
    "\n",
    "    # Loop over each subdirectory (class) in the image directory\n",
    "    for subdir in os.listdir(image_dir):\n",
    "        sub_dir_path = os.path.join(image_dir, subdir)\n",
    "        \n",
    "        # Loop over each image file in the subdirectory\n",
    "        for file in os.listdir(sub_dir_path):\n",
    "            image_path = os.path.join(sub_dir_path, file)\n",
    "            \n",
    "            # Read the image\n",
    "            image = cv2.imread(image_path)\n",
    "            \n",
    "            # Convert the image to grayscale\n",
    "            gray = cv2.cvtColor(image, cv2.COLOR_BGR2GRAY)\n",
    "            \n",
    "            # Calculate the HOG features\n",
    "            hog_features = hog(gray, orientations=num_bins, pixels_per_cell=cell_size, cells_per_block=block_size)\n",
    "            \n",
    "            # Append the features and label\n",
    "            features.append(hog_features)\n",
    "            labels.append(subdir)\n",
    "    \n",
    "    # Convert the feature and label lists to numpy arrays\n",
    "    features = np.array(features)\n",
    "    labels = np.array(labels)\n",
    "    \n",
    "    # Save the feature vectors and labels to files\n",
    "    np.save(os.path.join(output_dir, \"hog_features.npy\"), features)\n",
    "    np.save(os.path.join(output_dir, \"labels.npy\"), labels)\n",
    "\n",
    "# # Extract HOG features for the training set and save the features in the output directory\n",
    "extract_hog_features(train_dir, output_dir_train)\n",
    "\n",
    "# # Extract HOG features for the validation set and save the features in the output directory\n",
    "# extract_hog_features(val_dir, output_dir_val)\n",
    "\n",
    "# Extract HOG features for the test set and save the features in the output directory\n",
    "# extract_hog_features(test_dir, output_dir_test)\n"
   ]
  }
 ],
 "metadata": {
  "kernelspec": {
   "display_name": "Python 3",
   "language": "python",
   "name": "python3"
  },
  "language_info": {
   "codemirror_mode": {
    "name": "ipython",
    "version": 3
   },
   "file_extension": ".py",
   "mimetype": "text/x-python",
   "name": "python",
   "nbconvert_exporter": "python",
   "pygments_lexer": "ipython3",
   "version": "3.8.8"
  },
  "orig_nbformat": 4
 },
 "nbformat": 4,
 "nbformat_minor": 2
}
