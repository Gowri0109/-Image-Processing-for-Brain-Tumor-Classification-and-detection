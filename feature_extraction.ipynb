{
 "cells": [
  {
   "cell_type": "code",
   "execution_count": 1,
   "metadata": {},
   "outputs": [],
   "source": [
    "#feature extraction from previous segmented images \n",
    "#to extract features for each image in the dataset such as texture, color, shape, size, etc\n",
    "#and store them in a file\n",
    "import cv2\n",
    "import os\n",
    "import numpy as np\n",
    "from skimage.feature import hog\n",
    "from skimage import data, exposure\n",
    "import pywt\n",
    "from imutils import face_utils\n",
    "import cv2\n",
    "import dlib"
   ]
  },
  {
   "cell_type": "code",
   "execution_count": null,
   "metadata": {},
   "outputs": [],
   "source": [
    "#Feature Extractor using wavelets\n",
    "class feature_extract:\n",
    "    def __init__(self, wavelet= 'haar', level=1):\n",
    "        self.wavelet = wavelet\n",
    "        self.level = level\n",
    "\n",
    "    def  extract(self, image):\n",
    "        #convert image to float and scale to [0,1]\n",
    "        image = image.astype('float32')/255\n",
    "\n",
    "        #apply wavelet transform\n",
    "        coeffs = pywt.wavedec2(image, self.wavelet, level=self.level)\n",
    "        #extract features\n",
    "        features = []\n",
    "        for i, coeffs in enumerate(coeffs):\n",
    "            if i == 0:\n",
    "                #approximation coefficients\n",
    "                features += self._extract_coeff_features(coeffs, 'A')\n",
    "            \n",
    "            else:\n",
    "                #deatil coeeficients\n",
    "                features += self._extract_coeff_features(coeffs[0], 'H')\n",
    "                features += self._extract_coeff_features(coeffs[1], 'V')\n",
    "                features += self._extract_coeff_features(coeffs[2], 'D')\n",
    "\n",
    "        return features\n",
    "    \n",
    "    def _extract_coeff_features(self, coeff, label):\n",
    "        #calculate statistics for wavelet coefficients\n",
    "        features = []\n",
    "        features.append(np.mean(coeff))\n",
    "        features.append(np.std(coeff))\n",
    "        features.append(np.median(coeff))\n",
    "        features.append(np.max(coeff))\n",
    "        features.append(np.min(coeff))\n",
    "\n",
    "        # Add label to feature names\n",
    "        features = [f'{label}_{f}' for f in features]\n",
    "\n",
    "        return features\n",
    "    "
   ]
  },
  {
   "cell_type": "code",
   "execution_count": null,
   "metadata": {},
   "outputs": [],
   "source": [
    "#feature extraction using shape based\n",
    "\n",
    "class shape_features:\n",
    "    def __init__(self, image):\n",
    "        self.image = image\n",
    "\n",
    "    def extract_features(self, image_path):\n",
    "        image = cv2.imread(image_path)\n",
    "        gray = cv2.cvtColor(image, cv2.COLOR_BGR2GRAY)\n",
    "        # detect and extract features\n",
    "        detector = dlib.get_frontal_face_detector()\n",
    "        predictor = dlib.shape_predictor(\"shape_predictor_68_face_landmarks.dat\")\n",
    "        faces = detector(gray)\n",
    "        for face in faces:\n",
    "            shape = predictor(gray, face)\n",
    "            shape = face_utils.shape_to_np(shape)\n",
    "            # loop over the (x, y)-coordinates for the facial landmarks\n",
    "            # and draw them on the image\n",
    "            for (x, y) in shape:\n",
    "                cv2.circle(image, (x, y), 1, (0, 0, 255), -1)\n",
    "        # show the output image with the face detections + facial landmarks\n",
    "        cv2.imshow(\"Output\", image)\n",
    "        cv2.waitKey(0)"
   ]
  },
  {
   "cell_type": "code",
   "execution_count": null,
   "metadata": {},
   "outputs": [],
   "source": []
  }
 ],
 "metadata": {
  "kernelspec": {
   "display_name": "Python 3",
   "language": "python",
   "name": "python3"
  },
  "language_info": {
   "codemirror_mode": {
    "name": "ipython",
    "version": 3
   },
   "file_extension": ".py",
   "mimetype": "text/x-python",
   "name": "python",
   "nbconvert_exporter": "python",
   "pygments_lexer": "ipython3",
   "version": "3.8.8"
  },
  "orig_nbformat": 4
 },
 "nbformat": 4,
 "nbformat_minor": 2
}
