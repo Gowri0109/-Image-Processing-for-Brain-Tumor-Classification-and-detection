{
 "cells": [
  {
   "cell_type": "code",
   "execution_count": 1,
   "metadata": {},
   "outputs": [],
   "source": [
    "#feature extraction from previous segmented images \n",
    "#to extract features for each image in the dataset such as texture, color, shape, size, etc\n",
    "#and store them in a file\n",
    "import cv2\n",
    "import os\n",
    "import numpy as np\n",
    "from skimage.feature import hog\n",
    "from skimage import data, exposure"
   ]
  },
  {
   "cell_type": "code",
   "execution_count": null,
   "metadata": {},
   "outputs": [],
   "source": [
    "class feature_extract:\n",
    "    def feature_extract(self, image):\n",
    "        pass\n",
    "\n",
    "    def feature_extract_all(self, images):\n",
    "        pass\n",
    "\n",
    "    \n",
    "    def feature_extract_all_batch(self, images):\n",
    "        pass\n",
    "\n",
    "    "
   ]
  }
 ],
 "metadata": {
  "kernelspec": {
   "display_name": "Python 3",
   "language": "python",
   "name": "python3"
  },
  "language_info": {
   "codemirror_mode": {
    "name": "ipython",
    "version": 3
   },
   "file_extension": ".py",
   "mimetype": "text/x-python",
   "name": "python",
   "nbconvert_exporter": "python",
   "pygments_lexer": "ipython3",
   "version": "3.8.8"
  },
  "orig_nbformat": 4
 },
 "nbformat": 4,
 "nbformat_minor": 2
}
