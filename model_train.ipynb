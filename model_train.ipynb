{
 "cells": [
  {
   "cell_type": "code",
   "execution_count": 2,
   "metadata": {},
   "outputs": [],
   "source": [
    "#DATA SPLITTING"
   ]
  },
  {
   "cell_type": "code",
   "execution_count": null,
   "metadata": {},
   "outputs": [],
   "source": [
    "#data is split into train, test and validation sets\n",
    "import pandas as pd\n",
    "import numpy as np\n",
    "import os\n",
    "import random\n",
    "import shutil\n",
    "\n",
    "input_folder = \"\"\n",
    "output_folder = \"\"\n",
    "train_ratio = 0.7\n",
    "validation_ratio = 0.15\n",
    "test_ratio = 0.15\n",
    "train_folder = \"\"\n",
    "test_folder = \"\"\n",
    "validation_folder = \"\"\n",
    "\n",
    "# Iterate over the folders in the input folder (assuming each folder represents a tumor type)\n",
    "for tumor_folder in os.listdir(input_folder):\n",
    "    tumor_folder_path = os.path.join(input_folder, tumor_folder)\n",
    "    if not os.path.isdir(tumor_folder_path):\n",
    "        continue\n",
    "    \n",
    "#iterate over the files in the input folder\n",
    "for filename in os.listdir()"
   ]
  }
 ],
 "metadata": {
  "kernelspec": {
   "display_name": "Python 3",
   "language": "python",
   "name": "python3"
  },
  "language_info": {
   "codemirror_mode": {
    "name": "ipython",
    "version": 3
   },
   "file_extension": ".py",
   "mimetype": "text/x-python",
   "name": "python",
   "nbconvert_exporter": "python",
   "pygments_lexer": "ipython3",
   "version": "3.8.8"
  },
  "orig_nbformat": 4
 },
 "nbformat": 4,
 "nbformat_minor": 2
}
